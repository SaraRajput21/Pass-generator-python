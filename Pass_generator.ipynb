{
  "nbformat": 4,
  "nbformat_minor": 0,
  "metadata": {
    "colab": {
      "provenance": [],
      "authorship_tag": "ABX9TyNSuTSPEwKsSvQR+t7Py45P",
      "include_colab_link": true
    },
    "kernelspec": {
      "name": "python3",
      "display_name": "Python 3"
    },
    "language_info": {
      "name": "python"
    }
  },
  "cells": [
    {
      "cell_type": "markdown",
      "metadata": {
        "id": "view-in-github",
        "colab_type": "text"
      },
      "source": [
        "<a href=\"https://colab.research.google.com/github/SaraRajput21/Pass-generator-python/blob/main/Pass_generator.ipynb\" target=\"_parent\"><img src=\"https://colab.research.google.com/assets/colab-badge.svg\" alt=\"Open In Colab\"/></a>"
      ]
    },
    {
      "cell_type": "code",
      "execution_count": 3,
      "metadata": {
        "colab": {
          "base_uri": "https://localhost:8080/"
        },
        "id": "ovySOEMowTYS",
        "outputId": "c55d96ad-a7fc-4671-b01c-1b1a30df0369"
      },
      "outputs": [
        {
          "output_type": "stream",
          "name": "stdout",
          "text": [
            "Welcome to the Password Generator!\n",
            "Enter the length of the password (minimum 8): 0\n",
            "Password length must be at least 8. Setting length to 8.\n",
            "Include numbers? (y/n): \n",
            "Include special characters? (y/n): n\n",
            "\n",
            "Your generated password is: EjoUYcoH\n"
          ]
        }
      ],
      "source": [
        "import random\n",
        "import string\n",
        "\n",
        "def generate_password(length=12, use_numbers=True, use_special_chars=True):\n",
        "    # Define character sets\n",
        "    lowercase_letters = string.ascii_lowercase\n",
        "    uppercase_letters = string.ascii_uppercase\n",
        "    numbers = string.digits if use_numbers else \"\"\n",
        "    special_chars = \"!@#$%^&*()_+-=[]{}|;:,.<>?\" if use_special_chars else \"\"\n",
        "\n",
        "    # Combine all character sets based on user preferences\n",
        "    all_chars = lowercase_letters + uppercase_letters + numbers + special_chars\n",
        "\n",
        "    # Ensure the password contains at least one character from each selected set\n",
        "    password = [\n",
        "        random.choice(lowercase_letters),\n",
        "        random.choice(uppercase_letters),\n",
        "    ]\n",
        "    if use_numbers:\n",
        "        password.append(random.choice(numbers))\n",
        "    if use_special_chars:\n",
        "        password.append(random.choice(special_chars))\n",
        "\n",
        "    # Fill the rest of the password with random characters\n",
        "    remaining_length = length - len(password)\n",
        "    for _ in range(remaining_length):\n",
        "        password.append(random.choice(all_chars))\n",
        "\n",
        "    # Shuffle the password to ensure randomness\n",
        "    random.shuffle(password)\n",
        "\n",
        "    # Convert the list to a string\n",
        "    return \"\".join(password)\n",
        "\n",
        "def main():\n",
        "    print(\"Welcome to the Password Generator!\")\n",
        "\n",
        "    try:\n",
        "        # Get user preferences\n",
        "        length = int(input(\"Enter the length of the password (minimum 8): \"))\n",
        "        if length < 8:\n",
        "            print(\"Password length must be at least 8. Setting length to 8.\")\n",
        "            length = 8\n",
        "\n",
        "        use_numbers = input(\"Include numbers? (y/n): \").lower() == \"y\"\n",
        "        use_special_chars = input(\"Include special characters? (y/n): \").lower() == \"y\"\n",
        "\n",
        "        # Generate the password\n",
        "        password = generate_password(length, use_numbers, use_special_chars)\n",
        "        print(\"\\nYour generated password is:\", password)\n",
        "    except ValueError:\n",
        "        print(\"Invalid input. Please enter a valid number for the password length.\")\n",
        "\n",
        "# Run the program\n",
        "if __name__ == \"__main__\":\n",
        "    main()\n",
        ""
      ]
    }
  ]
}